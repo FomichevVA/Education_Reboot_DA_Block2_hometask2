{
 "cells": [
  {
   "cell_type": "markdown",
   "metadata": {
    "toc": true
   },
   "source": [
    "<h1>Table of Contents<span class=\"tocSkip\"></span></h1>\n",
    "<div class=\"toc\"><ul class=\"toc-item\"><li><span><a href=\"#Задание\" data-toc-modified-id=\"Задание-1\"><span class=\"toc-item-num\">1&nbsp;&nbsp;</span>Задание</a></span><ul class=\"toc-item\"><li><span><a href=\"#Создайте-DataFrame-в-котором-будут-даты-публикации-вакансий,-названия,-описания,-только-добавьте-поле-ключевые-навыки\" data-toc-modified-id=\"Создайте-DataFrame-в-котором-будут-даты-публикации-вакансий,-названия,-описания,-только-добавьте-поле-ключевые-навыки-1.1\"><span class=\"toc-item-num\">1.1&nbsp;&nbsp;</span>Создайте DataFrame в котором будут даты публикации вакансий, названия, описания, только добавьте поле ключевые навыки</a></span><ul class=\"toc-item\"><li><span><a href=\"#Вытаскиваем-вакансии-в-defaultdict\" data-toc-modified-id=\"Вытаскиваем-вакансии-в-defaultdict-1.1.1\"><span class=\"toc-item-num\">1.1.1&nbsp;&nbsp;</span>Вытаскиваем вакансии в defaultdict</a></span></li><li><span><a href=\"#Преобразуем-defaultdict-в-DateFrame\" data-toc-modified-id=\"Преобразуем-defaultdict-в-DateFrame-1.1.2\"><span class=\"toc-item-num\">1.1.2&nbsp;&nbsp;</span>Преобразуем defaultdict в DateFrame</a></span></li></ul></li><li><span><a href=\"#Переведите-даты-публикаций-в-формат-datetime-и-постройте-график-опубликованных-вакансий-по-датам\" data-toc-modified-id=\"Переведите-даты-публикаций-в-формат-datetime-и-постройте-график-опубликованных-вакансий-по-датам-1.2\"><span class=\"toc-item-num\">1.2&nbsp;&nbsp;</span>Переведите даты публикаций в формат datetime и постройте график опубликованных вакансий по датам</a></span></li><li><span><a href=\"#Переведите-даты-в-дни-недели,-и-определите-день-недели,-в-который-больше-всего-публикуют-вакансий\" data-toc-modified-id=\"Переведите-даты-в-дни-недели,-и-определите-день-недели,-в-который-больше-всего-публикуют-вакансий-1.3\"><span class=\"toc-item-num\">1.3&nbsp;&nbsp;</span>Переведите даты в дни недели, и определите день недели, в который больше всего публикуют вакансий</a></span></li><li><span><a href=\"#Определите-по-полю-с-ключевыми-навыками,-какие-навыки-больше-всего-востребованы-для-найденных-вакансий\" data-toc-modified-id=\"Определите-по-полю-с-ключевыми-навыками,-какие-навыки-больше-всего-востребованы-для-найденных-вакансий-1.4\"><span class=\"toc-item-num\">1.4&nbsp;&nbsp;</span>Определите по полю с ключевыми навыками, какие навыки больше всего востребованы для найденных вакансий</a></span></li><li><span><a href=\"#Постройте-график-наиболее-востребованных-навыков\" data-toc-modified-id=\"Постройте-график-наиболее-востребованных-навыков-1.5\"><span class=\"toc-item-num\">1.5&nbsp;&nbsp;</span>Постройте график наиболее востребованных навыков</a></span></li></ul></li></ul></div>"
   ]
  },
  {
   "cell_type": "markdown",
   "metadata": {},
   "source": [
    "# Задание\n",
    "* Cкачайте все вакансии СБЕРа из api hh.ru (https://github.com/hhru/api у апи есть ограничение в 2000, подумайте как его обойти)\n",
    "* Извлеките все полные описания этих вакансий по запросу с https://api.hh.ru/vacancies/43326020 где 43326020 id вакансии\n",
    "* Создайте DataFrame в котором будут даты публикации вакансий, названия, описания,  только добавьте поле ключевые навыки\n",
    "* Переведите даты публикаций в формат datetime и постройте график опубликованных вакансий по датам\n",
    "* Переведите даты в дни недели, и определите день недели, в который больше всего публикуют вакансий\n",
    "* Найдите вакансии с использованием python, которые вам интересны\n",
    "* Определите по полю с ключевыми навыками, какие навыки больше всего востребованы для найденных вакансий\n",
    "* Постройте график наиболее востребованных навыков"
   ]
  },
  {
   "cell_type": "code",
   "execution_count": 140,
   "metadata": {},
   "outputs": [],
   "source": [
    "import requests\n",
    "from tqdm.auto import tqdm\n",
    "import time\n",
    "import datetime as dt\n",
    "from collections  import Counter, defaultdict\n",
    "import pandas as pd\n",
    "import numpy as np"
   ]
  },
  {
   "cell_type": "code",
   "execution_count": 141,
   "metadata": {},
   "outputs": [
    {
     "data": {
      "text/plain": [
       "1952"
      ]
     },
     "execution_count": 141,
     "metadata": {},
     "output_type": "execute_result"
    }
   ],
   "source": [
    "sber = '3529'\n",
    "page = 0\n",
    "num_per_page = 100\n",
    "b_date = dt.datetime.now().date() - dt.timedelta(hours=24)\n",
    "e_date = dt.datetime.now().date()\n",
    "date_from = dt.datetime.strftime(b_date, '%Y-%m-%d')\n",
    "date_to = dt.datetime.strftime(e_date, '%Y-%m-%d')\n",
    "# url = f'https://api.hh.ru/vacancies?employer_id={sber}&page={page}&per_page={num_per_page}&area={moscow}'\n",
    "url = f'''https://api.hh.ru/vacancies?employer_id={sber}&page={page}\n",
    "        &per_page={num_per_page}&date_from={date_from}&date_to={date_to}'''\n",
    "res = requests.get(url)\n",
    "found = res.json().get('found')\n",
    "found"
   ]
  },
  {
   "cell_type": "code",
   "execution_count": 142,
   "metadata": {
    "scrolled": true
   },
   "outputs": [
    {
     "name": "stdout",
     "output_type": "stream",
     "text": [
      "От 2023-03-20 до 2023-03-21\n"
     ]
    },
    {
     "data": {
      "application/vnd.jupyter.widget-view+json": {
       "model_id": "d9f267a652f5437085bf622878d0793d",
       "version_major": 2,
       "version_minor": 0
      },
      "text/plain": [
       "  0%|          | 0/20 [00:00<?, ?it/s]"
      ]
     },
     "metadata": {},
     "output_type": "display_data"
    },
    {
     "name": "stdout",
     "output_type": "stream",
     "text": [
      "От 2023-03-18 до 2023-03-19\n"
     ]
    },
    {
     "data": {
      "application/vnd.jupyter.widget-view+json": {
       "model_id": "ea8304cd21804e59b1686551fd5d81da",
       "version_major": 2,
       "version_minor": 0
      },
      "text/plain": [
       "  0%|          | 0/2 [00:00<?, ?it/s]"
      ]
     },
     "metadata": {},
     "output_type": "display_data"
    },
    {
     "name": "stdout",
     "output_type": "stream",
     "text": [
      "От 2023-03-16 до 2023-03-17\n"
     ]
    },
    {
     "data": {
      "application/vnd.jupyter.widget-view+json": {
       "model_id": "4474dea710694dbda62fd72f7c33a223",
       "version_major": 2,
       "version_minor": 0
      },
      "text/plain": [
       "  0%|          | 0/6 [00:00<?, ?it/s]"
      ]
     },
     "metadata": {},
     "output_type": "display_data"
    },
    {
     "name": "stdout",
     "output_type": "stream",
     "text": [
      "От 2023-03-14 до 2023-03-15\n"
     ]
    },
    {
     "data": {
      "application/vnd.jupyter.widget-view+json": {
       "model_id": "2868621184374a0fb2a9246e08b2ff94",
       "version_major": 2,
       "version_minor": 0
      },
      "text/plain": [
       "  0%|          | 0/7 [00:00<?, ?it/s]"
      ]
     },
     "metadata": {},
     "output_type": "display_data"
    },
    {
     "name": "stdout",
     "output_type": "stream",
     "text": [
      "От 2023-03-12 до 2023-03-13\n"
     ]
    },
    {
     "data": {
      "application/vnd.jupyter.widget-view+json": {
       "model_id": "f30becad0ff74ff79813deb00564ee47",
       "version_major": 2,
       "version_minor": 0
      },
      "text/plain": [
       "  0%|          | 0/4 [00:00<?, ?it/s]"
      ]
     },
     "metadata": {},
     "output_type": "display_data"
    },
    {
     "name": "stdout",
     "output_type": "stream",
     "text": [
      "От 2023-03-10 до 2023-03-11\n"
     ]
    },
    {
     "data": {
      "application/vnd.jupyter.widget-view+json": {
       "model_id": "746c47b0a2f5406589ce13fac5de2e01",
       "version_major": 2,
       "version_minor": 0
      },
      "text/plain": [
       "  0%|          | 0/4 [00:00<?, ?it/s]"
      ]
     },
     "metadata": {},
     "output_type": "display_data"
    },
    {
     "name": "stdout",
     "output_type": "stream",
     "text": [
      "От 2023-03-08 до 2023-03-09\n"
     ]
    },
    {
     "data": {
      "application/vnd.jupyter.widget-view+json": {
       "model_id": "e0136f02e0e248d29c0bfa65f148ae53",
       "version_major": 2,
       "version_minor": 0
      },
      "text/plain": [
       "  0%|          | 0/3 [00:00<?, ?it/s]"
      ]
     },
     "metadata": {},
     "output_type": "display_data"
    },
    {
     "name": "stdout",
     "output_type": "stream",
     "text": [
      "От 2023-03-06 до 2023-03-07\n"
     ]
    },
    {
     "data": {
      "application/vnd.jupyter.widget-view+json": {
       "model_id": "9f1e56e59814427497705cf0106ae120",
       "version_major": 2,
       "version_minor": 0
      },
      "text/plain": [
       "  0%|          | 0/4 [00:00<?, ?it/s]"
      ]
     },
     "metadata": {},
     "output_type": "display_data"
    },
    {
     "name": "stdout",
     "output_type": "stream",
     "text": [
      "От 2023-03-04 до 2023-03-05\n"
     ]
    },
    {
     "data": {
      "application/vnd.jupyter.widget-view+json": {
       "model_id": "c28ec577770f438cb8f1b582a346ded4",
       "version_major": 2,
       "version_minor": 0
      },
      "text/plain": [
       "  0%|          | 0/4 [00:00<?, ?it/s]"
      ]
     },
     "metadata": {},
     "output_type": "display_data"
    },
    {
     "name": "stdout",
     "output_type": "stream",
     "text": [
      "От 2023-03-02 до 2023-03-03\n"
     ]
    },
    {
     "data": {
      "application/vnd.jupyter.widget-view+json": {
       "model_id": "ec031da3d5714fbbabff084545df8134",
       "version_major": 2,
       "version_minor": 0
      },
      "text/plain": [
       "  0%|          | 0/4 [00:00<?, ?it/s]"
      ]
     },
     "metadata": {},
     "output_type": "display_data"
    },
    {
     "name": "stdout",
     "output_type": "stream",
     "text": [
      "От 2023-02-28 до 2023-03-01\n"
     ]
    },
    {
     "data": {
      "application/vnd.jupyter.widget-view+json": {
       "model_id": "d505895dd1a442bd82fa34672895301e",
       "version_major": 2,
       "version_minor": 0
      },
      "text/plain": [
       "  0%|          | 0/4 [00:00<?, ?it/s]"
      ]
     },
     "metadata": {},
     "output_type": "display_data"
    },
    {
     "name": "stdout",
     "output_type": "stream",
     "text": [
      "От 2023-02-26 до 2023-02-27\n"
     ]
    },
    {
     "data": {
      "application/vnd.jupyter.widget-view+json": {
       "model_id": "8915a04f44c941b1a4f369869e63c91a",
       "version_major": 2,
       "version_minor": 0
      },
      "text/plain": [
       "  0%|          | 0/4 [00:00<?, ?it/s]"
      ]
     },
     "metadata": {},
     "output_type": "display_data"
    },
    {
     "name": "stdout",
     "output_type": "stream",
     "text": [
      "От 2023-02-24 до 2023-02-25\n"
     ]
    },
    {
     "data": {
      "application/vnd.jupyter.widget-view+json": {
       "model_id": "e210e42a4b61453a9c60b83c8f757399",
       "version_major": 2,
       "version_minor": 0
      },
      "text/plain": [
       "  0%|          | 0/1 [00:00<?, ?it/s]"
      ]
     },
     "metadata": {},
     "output_type": "display_data"
    },
    {
     "name": "stdout",
     "output_type": "stream",
     "text": [
      "От 2023-02-22 до 2023-02-23\n"
     ]
    },
    {
     "data": {
      "application/vnd.jupyter.widget-view+json": {
       "model_id": "3ebe7714d86c4b4f9d92ef58c17c80ad",
       "version_major": 2,
       "version_minor": 0
      },
      "text/plain": [
       "  0%|          | 0/2 [00:00<?, ?it/s]"
      ]
     },
     "metadata": {},
     "output_type": "display_data"
    },
    {
     "name": "stdout",
     "output_type": "stream",
     "text": [
      "От 2023-02-20 до 2023-02-21\n"
     ]
    },
    {
     "data": {
      "application/vnd.jupyter.widget-view+json": {
       "model_id": "360ad33a1a7443028bcb637a46e673d8",
       "version_major": 2,
       "version_minor": 0
      },
      "text/plain": [
       "  0%|          | 0/4 [00:00<?, ?it/s]"
      ]
     },
     "metadata": {},
     "output_type": "display_data"
    },
    {
     "data": {
      "text/plain": [
       "6543"
      ]
     },
     "execution_count": 142,
     "metadata": {},
     "output_type": "execute_result"
    }
   ],
   "source": [
    "sber = '3529'\n",
    "page = 0\n",
    "num_per_page = 100\n",
    "b_date = dt.datetime.now().date() - dt.timedelta(hours=24)\n",
    "e_date = dt.datetime.now().date()\n",
    "date_from = dt.datetime.strftime(b_date, '%Y-%m-%d')\n",
    "date_to = dt.datetime.strftime(e_date, '%Y-%m-%d')\n",
    "# url = f'https://api.hh.ru/vacancies?employer_id={sber}&page={page}&per_page={num_per_page}&area={moscow}'\n",
    "url = f'''https://api.hh.ru/vacancies?employer_id={sber}&page={page}\n",
    "        &per_page={num_per_page}&date_from={date_from}&date_to={date_to}'''\n",
    "res = requests.get(url)\n",
    "found = res.json().get('found')\n",
    "all_vacancy_ids= []\n",
    "#бежим по дням назад пока количество найденых вакансий не будет ноль\n",
    "while found > 0 : \n",
    "    # бeжим по страницам  \n",
    "    print('От ' + dt.datetime.strftime(b_date, '%Y-%m-%d')+\n",
    "          ' до ' + dt.datetime.strftime(e_date, '%Y-%m-%d'))\n",
    "    for i in tqdm(range(res.json().get('pages'))):\n",
    "        url = f'''https://api.hh.ru/vacancies?employer_id={sber}&page={i}\n",
    "                &per_page={num_per_page}&date_from={date_from}&date_to={date_to}'''\n",
    "        res = requests.get(url)\n",
    "        vacancy_ids = [el.get('id') for el in res.json().get('items')]\n",
    "        all_vacancy_ids.extend(vacancy_ids)\n",
    "    # смещаем период на день назад(24 часа)     \n",
    "    b_date=b_date-dt.timedelta(hours=48)\n",
    "    e_date=e_date-dt.timedelta(hours=48)\n",
    "    date_from = dt.datetime.strftime(b_date, '%Y-%m-%d')\n",
    "    date_to = dt.datetime.strftime(e_date, '%Y-%m-%d')\n",
    "    url = f'''https://api.hh.ru/vacancies?employer_id={sber}&page={page}\n",
    "            &per_page={num_per_page}&date_from={date_from}&date_to={date_to}'''\n",
    "    res = requests.get(url)\n",
    "    found = res.json().get('found')\n",
    "len(all_vacancy_ids)"
   ]
  },
  {
   "cell_type": "markdown",
   "metadata": {},
   "source": [
    "## Создайте DataFrame в котором будут даты публикации вакансий, названия, описания, только добавьте поле ключевые навыки"
   ]
  },
  {
   "cell_type": "markdown",
   "metadata": {},
   "source": [
    "### Вытаскиваем вакансии в defaultdict"
   ]
  },
  {
   "cell_type": "code",
   "execution_count": 152,
   "metadata": {},
   "outputs": [
    {
     "data": {
      "application/vnd.jupyter.widget-view+json": {
       "model_id": "59a70bebd0d3488f89463e67899f289e",
       "version_major": 2,
       "version_minor": 0
      },
      "text/plain": [
       "  0%|          | 0/6543 [00:00<?, ?it/s]"
      ]
     },
     "metadata": {},
     "output_type": "display_data"
    }
   ],
   "source": [
    "tab_dict = defaultdict(list)\n",
    "for i in tqdm(range(len(all_vacancy_ids))) :\n",
    "    vacancy = requests.get(f'https://api.hh.ru/vacancies/{all_vacancy_ids[i]}').json()\n",
    "    tab_dict['id'].append(vacancy['id'])\n",
    "    tab_dict['name'].append(vacancy['name'])\n",
    "    tab_dict['published_at'].append(vacancy['published_at'])\n",
    "    tab_dict['description'].append(vacancy['description'])\n",
    "    tab_dict['key_skills'].append(vacancy['key_skills'])\n",
    "    if i>0 and i % 100 == 0 :\n",
    "        # на каждом 100 запросе ждем что-бы не появлялась капча  \n",
    "        time.sleep(60)"
   ]
  },
  {
   "cell_type": "code",
   "execution_count": 149,
   "metadata": {},
   "outputs": [
    {
     "data": {
      "text/plain": [
       "<Response [403]>"
      ]
     },
     "execution_count": 149,
     "metadata": {},
     "output_type": "execute_result"
    }
   ],
   "source": [
    "vac_id = 43326021\n",
    "url = f'https://api.hh.ru/vacancies/{vac_id}'\n",
    "res = requests.get(url)\n",
    "vacancy = res.json()\n",
    "res"
   ]
  },
  {
   "cell_type": "code",
   "execution_count": 150,
   "metadata": {},
   "outputs": [
    {
     "data": {
      "text/plain": [
       "{'errors': [{'value': 'captcha_required',\n",
       "   'captcha_url': 'https://hh.ru/account/captcha?state=pxvcxBozfu7ry7R4QCetFpeicJ2Ml-ur_701s7jX2mZxCzHziryEFFjVgnI-vznkPrNJrXPDrB6LqaxdbqnkHF23IkRpySd9KAtXbq_S8Vrk48I6F5ipYXSM0lp-0aUq',\n",
       "   'type': 'captcha_required'}],\n",
       " 'request_id': '16794273693305df1fb50c6c2b43dffa'}"
      ]
     },
     "execution_count": 150,
     "metadata": {},
     "output_type": "execute_result"
    }
   ],
   "source": [
    "vacancy"
   ]
  },
  {
   "cell_type": "code",
   "execution_count": 151,
   "metadata": {},
   "outputs": [
    {
     "data": {
      "text/plain": [
       "True"
      ]
     },
     "execution_count": 151,
     "metadata": {},
     "output_type": "execute_result"
    }
   ],
   "source": [
    "# переход к капче\n",
    "import webbrowser\n",
    "webbrowser.open_new_tab('https://hh.ru/account/captcha?state=pxvcxBozfu7ry7R4QCetFpeicJ2Ml-ur_701s7jX2mZxCzHziryEFFjVgnI-vznkPrNJrXPDrB6LqaxdbqnkHF23IkRpySd9KAtXbq_S8Vrk48I6F5ipYXSM0lp-0aUq'+'&backurl=http://hh.ru')"
   ]
  },
  {
   "cell_type": "markdown",
   "metadata": {},
   "source": [
    "### Преобразуем defaultdict в DateFrame"
   ]
  },
  {
   "cell_type": "code",
   "execution_count": 153,
   "metadata": {},
   "outputs": [],
   "source": [
    "df = pd.DataFrame.from_dict(tab_dict)"
   ]
  },
  {
   "cell_type": "code",
   "execution_count": 154,
   "metadata": {},
   "outputs": [
    {
     "data": {
      "text/plain": [
       "(6543, 5)"
      ]
     },
     "execution_count": 154,
     "metadata": {},
     "output_type": "execute_result"
    }
   ],
   "source": [
    "df.shape"
   ]
  },
  {
   "cell_type": "code",
   "execution_count": 157,
   "metadata": {},
   "outputs": [
    {
     "data": {
      "text/plain": [
       "6543"
      ]
     },
     "execution_count": 157,
     "metadata": {},
     "output_type": "execute_result"
    }
   ],
   "source": [
    "df['id'].nunique()"
   ]
  },
  {
   "cell_type": "markdown",
   "metadata": {},
   "source": [
    "## Переведите даты публикаций в формат datetime и постройте график опубликованных вакансий по датам"
   ]
  },
  {
   "cell_type": "code",
   "execution_count": 155,
   "metadata": {},
   "outputs": [
    {
     "data": {
      "text/plain": [
       "<AxesSubplot:xlabel='published date'>"
      ]
     },
     "execution_count": 155,
     "metadata": {},
     "output_type": "execute_result"
    },
    {
     "data": {
      "image/png": "[encoded data removed]",
      "text/plain": [
       "<Figure size 720x432 with 1 Axes>"
      ]
     },
     "metadata": {
      "needs_background": "light"
     },
     "output_type": "display_data"
    }
   ],
   "source": [
    "import datetime as dt\n",
    "# import matplotlib.pyplot as plt\n",
    "df['published date'] =df.published_at.apply(lambda x:dt.datetime.strptime(x[:10], '%Y-%m-%d').date())\n",
    "df_daily=df[['published date','id']].groupby('published date')['id'].nunique().reset_index()\n",
    "df_daily.plot(kind='line',x='published date', y='id', sharex = 'True',sharey= 'True',figsize=(10, 6))"
   ]
  },
  {
   "cell_type": "code",
   "execution_count": 156,
   "metadata": {},
   "outputs": [
    {
     "data": {
      "text/plain": [
       "<AxesSubplot:xlabel='published date'>"
      ]
     },
     "execution_count": 156,
     "metadata": {},
     "output_type": "execute_result"
    },
    {
     "data": {
      "image/png": "[encoded data removed]",
      "text/plain": [
       "<Figure size 720x432 with 1 Axes>"
      ]
     },
     "metadata": {
      "needs_background": "light"
     },
     "output_type": "display_data"
    }
   ],
   "source": [
    "df_daily.plot(kind='bar',x='published date', y='id', sharex = 'True',sharey= 'True',figsize=(10, 6))"
   ]
  },
  {
   "cell_type": "markdown",
   "metadata": {},
   "source": [
    "## Переведите даты в дни недели, и определите день недели, в который больше всего публикуют вакансий"
   ]
  },
  {
   "cell_type": "code",
   "execution_count": 163,
   "metadata": {},
   "outputs": [
    {
     "name": "stdout",
     "output_type": "stream",
     "text": [
      "Больше всего публикаций(2274) в Tuesday\n"
     ]
    },
    {
     "data": {
      "image/png": "[encoded data removed]",
      "text/plain": [
       "<Figure size 720x432 with 1 Axes>"
      ]
     },
     "metadata": {
      "needs_background": "light"
     },
     "output_type": "display_data"
    }
   ],
   "source": [
    "df['day of week'] =df.published_at.apply(\n",
    "    lambda x:dt.datetime.strptime(x[:10], '%Y-%m-%d').date().strftime('%A'))\n",
    "df_day_of_week=df[['day of week','id']].groupby('day of week')['id'].nunique().reset_index()\n",
    "df_day_of_week_s=df_day_of_week.sort_values(by=['id'],ascending=False).copy().reset_index()\n",
    "df_day_of_week_s.plot(\n",
    "    kind='bar', x='day of week', y='id', sharex='True',\n",
    "    sharey='True',figsize=(10, 6))\n",
    "print('Больше всего публикаций('\n",
    "      + __builtins__.str(df_day_of_week_s['id'][0])+') в ' \n",
    "      + df_day_of_week_s['day of week'][0]\n",
    "      )"
   ]
  },
  {
   "cell_type": "code",
   "execution_count": 160,
   "metadata": {
    "code_folding": []
   },
   "outputs": [
    {
     "data": {
      "text/plain": [
       "452"
      ]
     },
     "execution_count": 160,
     "metadata": {},
     "output_type": "execute_result"
    }
   ],
   "source": [
    "df['python in name'] = df.name.apply(\n",
    "    lambda x:x.lower().find('python')>=0 if 1 else 0)\n",
    "df['python in description'] = df.description.apply(\n",
    "    lambda x:x.lower().find('python')>=0 if 1 else 0)\n",
    "df[df['python in name']|df['python in description']].id.nunique() "
   ]
  },
  {
   "cell_type": "markdown",
   "metadata": {},
   "source": [
    "## Определите по полю с ключевыми навыками, какие навыки больше всего востребованы для найденных вакансий"
   ]
  },
  {
   "cell_type": "code",
   "execution_count": 161,
   "metadata": {},
   "outputs": [
    {
     "data": {
      "text/plain": [
       "[('Деловое общение', 223),\n",
       " ('Работа в команде', 196),\n",
       " ('SQL', 176),\n",
       " ('Активные продажи', 167),\n",
       " ('Грамотная речь', 157),\n",
       " ('Деловая переписка', 153),\n",
       " ('Linux', 129),\n",
       " ('Деловая коммуникация', 123),\n",
       " ('Развитие продаж', 120),\n",
       " ('Ведение переговоров', 117)]"
      ]
     },
     "execution_count": 161,
     "metadata": {},
     "output_type": "execute_result"
    }
   ],
   "source": [
    "lst = []\n",
    "for cell in df['key_skills']:\n",
    "    for j in cell:\n",
    "        lst.append(j['name'])\n",
    "cnt = Counter(lst)\n",
    "# dict(cnt)\n",
    "cnt.most_common(10)"
   ]
  },
  {
   "cell_type": "markdown",
   "metadata": {},
   "source": [
    "## Постройте график наиболее востребованных навыков"
   ]
  },
  {
   "cell_type": "code",
   "execution_count": 162,
   "metadata": {},
   "outputs": [
    {
     "data": {
      "text/plain": [
       "<AxesSubplot:>"
      ]
     },
     "execution_count": 162,
     "metadata": {},
     "output_type": "execute_result"
    },
    {
     "data": {
      "image/png": "[encoded data removed]",
      "text/plain": [
       "<Figure size 720x432 with 1 Axes>"
      ]
     },
     "metadata": {
      "needs_background": "light"
     },
     "output_type": "display_data"
    }
   ],
   "source": [
    "skills_df = pd.DataFrame.from_dict(\n",
    "    dict(cnt.most_common(10)), orient='index', columns = ['number'] )\n",
    "skills_df.sort_values(by='number', ascending=True).plot(\n",
    "    kind='barh',sharey= 'True',figsize=(10, 6))"
   ]
  }
 ],
 "metadata": {
  "celltoolbar": "Отсутствует",
  "kernelspec": {
   "display_name": "Python 3 (ipykernel)",
   "language": "python",
   "name": "python3"
  },
  "language_info": {
   "codemirror_mode": {
    "name": "ipython",
    "version": 3
   },
   "file_extension": ".py",
   "mimetype": "text/x-python",
   "name": "python",
   "nbconvert_exporter": "python",
   "pygments_lexer": "ipython3",
   "version": "3.9.7"
  },
  "nbTranslate": {
   "displayLangs": [
    "*"
   ],
   "hotkey": "alt-t",
   "langInMainMenu": true,
   "sourceLang": "en",
   "targetLang": "fr",
   "useGoogleTranslate": true
  },
  "toc": {
   "base_numbering": 1,
   "nav_menu": {},
   "number_sections": true,
   "sideBar": true,
   "skip_h1_title": false,
   "title_cell": "Table of Contents",
   "title_sidebar": "Contents",
   "toc_cell": true,
   "toc_position": {},
   "toc_section_display": true,
   "toc_window_display": true
  }
 },
 "nbformat": 4,
 "nbformat_minor": 4
}
