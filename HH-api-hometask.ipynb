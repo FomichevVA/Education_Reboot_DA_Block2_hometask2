{
 "cells": [
  {
   "cell_type": "markdown",
   "metadata": {
    "toc": true
   },
   "source": [
    "<h1>Table of Contents<span class=\"tocSkip\"></span></h1>\n",
    "<div class=\"toc\"><ul class=\"toc-item\"><li><span><a href=\"#Задание\" data-toc-modified-id=\"Задание-1\"><span class=\"toc-item-num\">1&nbsp;&nbsp;</span>Задание</a></span><ul class=\"toc-item\"><li><span><a href=\"#Создайте-DataFrame-в-котором-будут-даты-публикации-вакансий,-названия,-описания,-только-добавьте-поле-ключевые-навыки\" data-toc-modified-id=\"Создайте-DataFrame-в-котором-будут-даты-публикации-вакансий,-названия,-описания,-только-добавьте-поле-ключевые-навыки-1.1\"><span class=\"toc-item-num\">1.1&nbsp;&nbsp;</span>Создайте DataFrame в котором будут даты публикации вакансий, названия, описания, только добавьте поле ключевые навыки</a></span><ul class=\"toc-item\"><li><span><a href=\"#Вытаскиваем-вакансии-в-defaultdict\" data-toc-modified-id=\"Вытаскиваем-вакансии-в-defaultdict-1.1.1\"><span class=\"toc-item-num\">1.1.1&nbsp;&nbsp;</span>Вытаскиваем вакансии в defaultdict</a></span></li><li><span><a href=\"#Преобразуем-defaultdict-в-DateFrame\" data-toc-modified-id=\"Преобразуем-defaultdict-в-DateFrame-1.1.2\"><span class=\"toc-item-num\">1.1.2&nbsp;&nbsp;</span>Преобразуем defaultdict в DateFrame</a></span></li></ul></li><li><span><a href=\"#Переведите-даты-публикаций-в-формат-datetime-и-постройте-график-опубликованных-вакансий-по-датам\" data-toc-modified-id=\"Переведите-даты-публикаций-в-формат-datetime-и-постройте-график-опубликованных-вакансий-по-датам-1.2\"><span class=\"toc-item-num\">1.2&nbsp;&nbsp;</span>Переведите даты публикаций в формат datetime и постройте график опубликованных вакансий по датам</a></span></li><li><span><a href=\"#Переведите-даты-в-дни-недели,-и-определите-день-недели,-в-который-больше-всего-публикуют-вакансий\" data-toc-modified-id=\"Переведите-даты-в-дни-недели,-и-определите-день-недели,-в-который-больше-всего-публикуют-вакансий-1.3\"><span class=\"toc-item-num\">1.3&nbsp;&nbsp;</span>Переведите даты в дни недели, и определите день недели, в который больше всего публикуют вакансий</a></span></li><li><span><a href=\"#Определите-по-полю-с-ключевыми-навыками,-какие-навыки-больше-всего-востребованы-для-найденных-вакансий\" data-toc-modified-id=\"Определите-по-полю-с-ключевыми-навыками,-какие-навыки-больше-всего-востребованы-для-найденных-вакансий-1.4\"><span class=\"toc-item-num\">1.4&nbsp;&nbsp;</span>Определите по полю с ключевыми навыками, какие навыки больше всего востребованы для найденных вакансий</a></span></li><li><span><a href=\"#Постройте-график-наиболее-востребованных-навыков\" data-toc-modified-id=\"Постройте-график-наиболее-востребованных-навыков-1.5\"><span class=\"toc-item-num\">1.5&nbsp;&nbsp;</span>Постройте график наиболее востребованных навыков</a></span></li></ul></li></ul></div>"
   ]
  },
  {
   "cell_type": "markdown",
   "metadata": {},
   "source": [
    "# Задание\n",
    "* Cкачайте все вакансии СБЕРа из api hh.ru (https://github.com/hhru/api у апи есть ограничение в 2000, подумайте как его обойти)\n",
    "* Извлеките все полные описания этих вакансий по запросу с https://api.hh.ru/vacancies/43326020 где 43326020 id вакансии\n",
    "* Создайте DataFrame в котором будут даты публикации вакансий, названия, описания,  только добавьте поле ключевые навыки\n",
    "* Переведите даты публикаций в формат datetime и постройте график опубликованных вакансий по датам\n",
    "* Переведите даты в дни недели, и определите день недели, в который больше всего публикуют вакансий\n",
    "* Найдите вакансии с использованием python, которые вам интересны\n",
    "* Определите по полю с ключевыми навыками, какие навыки больше всего востребованы для найденных вакансий\n",
    "* Постройте график наиболее востребованных навыков"
   ]
  },
  {
   "cell_type": "code",
   "execution_count": 77,
   "metadata": {},
   "outputs": [],
   "source": [
    "import requests\n",
    "from tqdm.auto import tqdm\n",
    "import time"
   ]
  },
  {
   "cell_type": "code",
   "execution_count": 79,
   "metadata": {},
   "outputs": [],
   "source": [
    "sber = '3529'\n",
    "page = 0\n",
    "num_per_page = 100\n",
    "moscow = 1\n",
    "# url = f'https://api.hh.ru/vacancies?employer_id={sber}&page={page}&per_page={num_per_page}&area={moscow}'\n",
    "url = f'https://api.hh.ru/vacancies?employer_id={sber}&page={page}&per_page={num_per_page}'"
   ]
  },
  {
   "cell_type": "code",
   "execution_count": 80,
   "metadata": {
    "scrolled": true
   },
   "outputs": [
    {
     "name": "stdout",
     "output_type": "stream",
     "text": [
      "found: 6325\n",
      " pages: 20\n",
      " per_page: 100\n",
      " page: 0\n",
      " clusters: None\n",
      " arguments: None\n",
      " alternate_url: https://hh.ru/search/vacancy?employer_id=3529&enable_snippets=true&items_on_page=100\n"
     ]
    }
   ],
   "source": [
    "res = requests.get(url)\n",
    "vacancies = res.json()\n",
    "num_pages = vacancies.get('pages')\n",
    "num_pages\n",
    "print('found: '+str(vacancies.get('found'))\n",
    "      +'\\n pages: '+str(vacancies.get('pages'))\n",
    "      +'\\n per_page: '+str(vacancies.get('per_page'))\n",
    "      +'\\n page: '+str(vacancies.get('page'))\n",
    "      +'\\n clusters: '+str(vacancies.get('clusters'))\n",
    "      +'\\n arguments: '+str(vacancies.get('arguments'))\n",
    "      +'\\n alternate_url: '+str(vacancies.get('alternate_url'))\n",
    "     )\n",
    "# vacancies"
   ]
  },
  {
   "cell_type": "code",
   "execution_count": 38,
   "metadata": {},
   "outputs": [],
   "source": [
    "from collections  import Counter, defaultdict"
   ]
  },
  {
   "cell_type": "code",
   "execution_count": 12,
   "metadata": {},
   "outputs": [],
   "source": [
    "vacancies = res.json()\n",
    "num_pages = vacancies.get('pages')\n",
    "vacancy_ids = [el.get('id') for el in vacancies.get('items')]"
   ]
  },
  {
   "cell_type": "code",
   "execution_count": 13,
   "metadata": {},
   "outputs": [
    {
     "data": {
      "text/plain": [
       "dict_keys(['items', 'found', 'pages', 'per_page', 'page', 'clusters', 'arguments', 'alternate_url'])"
      ]
     },
     "execution_count": 13,
     "metadata": {},
     "output_type": "execute_result"
    }
   ],
   "source": [
    "vacancies.keys()"
   ]
  },
  {
   "cell_type": "code",
   "execution_count": 48,
   "metadata": {},
   "outputs": [
    {
     "data": {
      "application/vnd.jupyter.widget-view+json": {
       "model_id": "5832f211ff504d0297a5aab3f15c7fe8",
       "version_major": 2,
       "version_minor": 0
      },
      "text/plain": [
       "  0%|          | 0/20 [00:00<?, ?it/s]"
      ]
     },
     "metadata": {},
     "output_type": "display_data"
    }
   ],
   "source": [
    "all_vacancy_ids= []\n",
    "for i in tqdm(range(vacancies.get('pages'))):\n",
    "    url = f'https://api.hh.ru/vacancies?employer_id={sber}&page={i}&per_page={num_per_page}'\n",
    "    res = requests.get(url)\n",
    "    vacancies = res.json()\n",
    "    vacancy_ids = [el.get('id') for el in vacancies.get('items')]\n",
    "    all_vacancy_ids.extend(vacancy_ids)"
   ]
  },
  {
   "cell_type": "code",
   "execution_count": 81,
   "metadata": {},
   "outputs": [
    {
     "data": {
      "text/plain": [
       "2000"
      ]
     },
     "execution_count": 81,
     "metadata": {},
     "output_type": "execute_result"
    }
   ],
   "source": [
    "len(all_vacancy_ids)"
   ]
  },
  {
   "cell_type": "code",
   "execution_count": 296,
   "metadata": {},
   "outputs": [
    {
     "data": {
      "text/plain": [
       "<Response [403]>"
      ]
     },
     "execution_count": 296,
     "metadata": {},
     "output_type": "execute_result"
    }
   ],
   "source": [
    "vac_id = 43326021\n",
    "url = f'https://api.hh.ru/vacancies/{vac_id}'\n",
    "res = requests.get(url)\n",
    "vacancy = res.json()\n",
    "res"
   ]
  },
  {
   "cell_type": "code",
   "execution_count": 297,
   "metadata": {
    "scrolled": true
   },
   "outputs": [
    {
     "data": {
      "text/plain": [
       "{'errors': [{'value': 'captcha_required',\n",
       "   'captcha_url': 'https://hh.ru/account/captcha?state=pxvcxBozfu7ry7R4QCetFpeicJ2Ml-ur_701s7jX2mZxCzHziryEFFjVgnI-vznkPrNJrXPDrB6LqaxdbqnkHNISlPMm6Y4nr5jLldkDqfR5cAiQlwQvTFe3CDGgNF8a',\n",
       "   'type': 'captcha_required'}],\n",
       " 'request_id': '167942399795389aa2bf5e82fc13daee'}"
      ]
     },
     "execution_count": 297,
     "metadata": {},
     "output_type": "execute_result"
    }
   ],
   "source": [
    "vacancy"
   ]
  },
  {
   "cell_type": "markdown",
   "metadata": {},
   "source": [
    "## Создайте DataFrame в котором будут даты публикации вакансий, названия, описания, только добавьте поле ключевые навыки"
   ]
  },
  {
   "cell_type": "markdown",
   "metadata": {},
   "source": [
    "### Вытаскиваем вакансии в defaultdict"
   ]
  },
  {
   "cell_type": "code",
   "execution_count": 93,
   "metadata": {},
   "outputs": [
    {
     "data": {
      "application/vnd.jupyter.widget-view+json": {
       "model_id": "2d4cdd3d8cca4a3e9474c95c9297f10f",
       "version_major": 2,
       "version_minor": 0
      },
      "text/plain": [
       "  0%|          | 0/2000 [00:00<?, ?it/s]"
      ]
     },
     "metadata": {},
     "output_type": "display_data"
    }
   ],
   "source": [
    "tab_dict = defaultdict(list)\n",
    "for i in tqdm(range(len(all_vacancy_ids))) :\n",
    "    vacancy = requests.get(f'https://api.hh.ru/vacancies/{all_vacancy_ids[i]}').json()\n",
    "    tab_dict['id'].append(vacancy['id'])\n",
    "    tab_dict['name'].append(vacancy['name'])\n",
    "    tab_dict['published_at'].append(vacancy['published_at'])\n",
    "    tab_dict['description'].append(vacancy['description'])\n",
    "    tab_dict['key_skills'].append(vacancy['key_skills'])\n",
    "    if i>0 and i % 100 == 0 :\n",
    "        # на каждом 100 запросе ждем что-бы не появлялась капча  \n",
    "        time.sleep(60) "
   ]
  },
  {
   "cell_type": "code",
   "execution_count": 92,
   "metadata": {},
   "outputs": [
    {
     "data": {
      "text/plain": [
       "True"
      ]
     },
     "execution_count": 92,
     "metadata": {},
     "output_type": "execute_result"
    }
   ],
   "source": [
    "# переход к капче\n",
    "import webbrowser\n",
    "webbrowser.open_new_tab('https://hh.ru/account/captcha?state=pxvcxBozfu7ry7R4QCetFpeicJ2Ml-ur_701s7jX2mZxCzHziryEFFjVgnI-vznkPrNJrXPDrB6LqaxdbqnkHAu8bTzXjzb1GU18cfaWlHTz-DjqVXcqWuZWQsEoCtkT'\n",
    "                       +'&backurl=http://hh.ru')"
   ]
  },
  {
   "cell_type": "code",
   "execution_count": 95,
   "metadata": {},
   "outputs": [],
   "source": [
    "import pandas as pd\n",
    "import numpy as np"
   ]
  },
  {
   "cell_type": "markdown",
   "metadata": {},
   "source": [
    "### Преобразуем defaultdict в DateFrame"
   ]
  },
  {
   "cell_type": "code",
   "execution_count": 96,
   "metadata": {},
   "outputs": [],
   "source": [
    "df = pd.DataFrame.from_dict(tab_dict)"
   ]
  },
  {
   "cell_type": "markdown",
   "metadata": {},
   "source": [
    "## Переведите даты публикаций в формат datetime и постройте график опубликованных вакансий по датам"
   ]
  },
  {
   "cell_type": "code",
   "execution_count": 257,
   "metadata": {},
   "outputs": [
    {
     "data": {
      "text/plain": [
       "<AxesSubplot:xlabel='published date'>"
      ]
     },
     "execution_count": 257,
     "metadata": {},
     "output_type": "execute_result"
    },
    {
     "data": {
      "image/png": "[encoded data removed]",
      "text/plain": [
       "<Figure size 720x432 with 1 Axes>"
      ]
     },
     "metadata": {
      "needs_background": "light"
     },
     "output_type": "display_data"
    }
   ],
   "source": [
    "import datetime as dt\n",
    "# import matplotlib.pyplot as plt\n",
    "df['published date'] =df.published_at.apply(lambda x:dt.datetime.strptime(x[:10], '%Y-%m-%d').date())\n",
    "df_daily=df[['published date','id']].groupby('published date')['id'].nunique().reset_index()\n",
    "df_daily.plot(kind='line',x='published date', y='id', sharex = 'True',sharey= 'True',figsize=(10, 6))"
   ]
  },
  {
   "cell_type": "code",
   "execution_count": 259,
   "metadata": {},
   "outputs": [
    {
     "data": {
      "text/plain": [
       "<AxesSubplot:xlabel='published date'>"
      ]
     },
     "execution_count": 259,
     "metadata": {},
     "output_type": "execute_result"
    },
    {
     "data": {
      "image/png": "[encoded data removed]",
      "text/plain": [
       "<Figure size 720x432 with 1 Axes>"
      ]
     },
     "metadata": {
      "needs_background": "light"
     },
     "output_type": "display_data"
    }
   ],
   "source": [
    "df_daily.plot(kind='bar',x='published date', y='id', sharex = 'True',sharey= 'True',figsize=(10, 6))"
   ]
  },
  {
   "cell_type": "markdown",
   "metadata": {},
   "source": [
    "## Переведите даты в дни недели, и определите день недели, в который больше всего публикуют вакансий"
   ]
  },
  {
   "cell_type": "code",
   "execution_count": 289,
   "metadata": {},
   "outputs": [
    {
     "name": "stdout",
     "output_type": "stream",
     "text": [
      "Больше всего публикаций(418) в Monday\n"
     ]
    },
    {
     "data": {
      "image/png": "[encoded data removed]",
      "text/plain": [
       "<Figure size 720x432 with 1 Axes>"
      ]
     },
     "metadata": {
      "needs_background": "light"
     },
     "output_type": "display_data"
    }
   ],
   "source": [
    "df['day of week'] =df.published_at.apply(\n",
    "    lambda x:dt.datetime.strptime(x[:10], '%Y-%m-%d').date().strftime('%A'))\n",
    "df_day_of_week=df[['day of week','id']].groupby('day of week')['id'].nunique().reset_index()\n",
    "df_day_of_week_s=df_day_of_week.sort_values(by=['id'],ascending=False).copy().reset_index()\n",
    "df_day_of_week_s.plot(\n",
    "    kind='bar', x='day of week', y='id', sharex='True',\n",
    "    sharey='True',figsize=(10, 6))\n",
    "print('Больше всего публикаций('\n",
    "      + str(df_day_of_week_s['id'][0])+') в ' \n",
    "      + df_day_of_week_s['day of week'][0]\n",
    "      )"
   ]
  },
  {
   "cell_type": "code",
   "execution_count": 166,
   "metadata": {},
   "outputs": [
    {
     "data": {
      "text/plain": [
       "139"
      ]
     },
     "execution_count": 166,
     "metadata": {},
     "output_type": "execute_result"
    }
   ],
   "source": [
    "df['python in name'] = df.name.apply(\n",
    "    lambda x:x.lower().find('python')>=0 if 1 else 0)\n",
    "df['python in description'] = df.description.apply(\n",
    "    lambda x:x.lower().find('python')>=0 if 1 else 0)\n",
    "df[df['python in name']|df['python in description']].id.nunique() "
   ]
  },
  {
   "cell_type": "markdown",
   "metadata": {},
   "source": [
    "## Определите по полю с ключевыми навыками, какие навыки больше всего востребованы для найденных вакансий"
   ]
  },
  {
   "cell_type": "code",
   "execution_count": 204,
   "metadata": {},
   "outputs": [
    {
     "data": {
      "text/plain": [
       "[('Работа в команде', 59),\n",
       " ('SQL', 58),\n",
       " ('Деловое общение', 52),\n",
       " ('Активные продажи', 47),\n",
       " ('Грамотная речь', 43),\n",
       " ('Деловая переписка', 39),\n",
       " ('Ведение переговоров', 39),\n",
       " ('Деловая коммуникация', 37),\n",
       " ('Linux', 36),\n",
       " ('Развитие продаж', 35)]"
      ]
     },
     "execution_count": 204,
     "metadata": {},
     "output_type": "execute_result"
    }
   ],
   "source": [
    "lst = []\n",
    "for cell in df['key_skills']:\n",
    "    for j in cell:\n",
    "        lst.append(j['name'])\n",
    "cnt = Counter(lst)\n",
    "# dict(cnt)\n",
    "cnt.most_common(10)"
   ]
  },
  {
   "cell_type": "markdown",
   "metadata": {},
   "source": [
    "## Постройте график наиболее востребованных навыков"
   ]
  },
  {
   "cell_type": "code",
   "execution_count": 295,
   "metadata": {},
   "outputs": [
    {
     "data": {
      "text/plain": [
       "<AxesSubplot:>"
      ]
     },
     "execution_count": 295,
     "metadata": {},
     "output_type": "execute_result"
    },
    {
     "data": {
      "image/png": "[encoded data removed]",
      "text/plain": [
       "<Figure size 720x432 with 1 Axes>"
      ]
     },
     "metadata": {
      "needs_background": "light"
     },
     "output_type": "display_data"
    }
   ],
   "source": [
    "skills_df = pd.DataFrame.from_dict(\n",
    "    dict(cnt.most_common(10)), orient='index', columns = ['number'] )\n",
    "skills_df.sort_values(by='number', ascending=True).plot(\n",
    "    kind='barh',sharey= 'True',figsize=(10, 6))"
   ]
  }
 ],
 "metadata": {
  "celltoolbar": "Отсутствует",
  "kernelspec": {
   "display_name": "Python 3 (ipykernel)",
   "language": "python",
   "name": "python3"
  },
  "language_info": {
   "codemirror_mode": {
    "name": "ipython",
    "version": 3
   },
   "file_extension": ".py",
   "mimetype": "text/x-python",
   "name": "python",
   "nbconvert_exporter": "python",
   "pygments_lexer": "ipython3",
   "version": "3.9.7"
  },
  "nbTranslate": {
   "displayLangs": [
    "*"
   ],
   "hotkey": "alt-t",
   "langInMainMenu": true,
   "sourceLang": "en",
   "targetLang": "fr",
   "useGoogleTranslate": true
  },
  "toc": {
   "base_numbering": 1,
   "nav_menu": {},
   "number_sections": true,
   "sideBar": true,
   "skip_h1_title": false,
   "title_cell": "Table of Contents",
   "title_sidebar": "Contents",
   "toc_cell": true,
   "toc_position": {},
   "toc_section_display": true,
   "toc_window_display": true
  }
 },
 "nbformat": 4,
 "nbformat_minor": 4
}
